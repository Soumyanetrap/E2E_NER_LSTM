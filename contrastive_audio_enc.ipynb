{
 "cells": [
  {
   "cell_type": "markdown",
   "metadata": {},
   "source": [
    "# Import"
   ]
  },
  {
   "cell_type": "code",
   "execution_count": 17,
   "metadata": {},
   "outputs": [],
   "source": [
    "from transformers import Wav2Vec2Processor, Wav2Vec2ForCTC\n",
    "import torch\n",
    "import pandas as pd\n",
    "import os\n",
    "import librosa\n",
    "from dataclasses import dataclass\n",
    "import re"
   ]
  },
  {
   "cell_type": "markdown",
   "metadata": {},
   "source": [
    "# Config"
   ]
  },
  {
   "cell_type": "code",
   "execution_count": 18,
   "metadata": {},
   "outputs": [],
   "source": [
    "dataset_path_base = '../dataset/fluent_speech_commands_dataset/'\n",
    "model_name = 'vasista22/ccc-wav2vec2-base-100h'"
   ]
  },
  {
   "cell_type": "markdown",
   "metadata": {},
   "source": [
    "# Forced Allignment"
   ]
  },
  {
   "cell_type": "code",
   "execution_count": 19,
   "metadata": {},
   "outputs": [],
   "source": [
    "def get_trellis(emission, tokens, blank_id=0):\n",
    "    num_frame = emission.size(0)\n",
    "    num_tokens = len(tokens)\n",
    "\n",
    "    trellis = torch.zeros((num_frame, num_tokens))\n",
    "    trellis[1:, 0] = torch.cumsum(emission[1:, blank_id], 0)\n",
    "    trellis[0, 1:] = -float(\"inf\")\n",
    "    trellis[-num_tokens + 1 :, 0] = float(\"inf\")\n",
    "\n",
    "    for t in range(num_frame - 1):\n",
    "        trellis[t + 1, 1:] = torch.maximum(\n",
    "            # Score for staying at the same token\n",
    "            trellis[t, 1:] + emission[t, blank_id],\n",
    "            # Score for changing to the next token\n",
    "            trellis[t, :-1] + emission[t, tokens[1:]],\n",
    "        )\n",
    "    return trellis\n",
    "\n",
    "@dataclass\n",
    "class Point:\n",
    "    token_index: int\n",
    "    time_index: int\n",
    "    score: float\n",
    "\n",
    "\n",
    "def backtrack(trellis, emission, tokens, blank_id=0):\n",
    "    t, j = trellis.size(0) - 1, trellis.size(1) - 1\n",
    "\n",
    "    path = [Point(j, t, emission[t, blank_id].exp().item())]\n",
    "    while j > 0:\n",
    "        # Should not happen but just in case\n",
    "        assert t > 0\n",
    "\n",
    "        # 1. Figure out if the current position was stay or change\n",
    "        # Frame-wise score of stay vs change\n",
    "        p_stay = emission[t - 1, blank_id]\n",
    "        p_change = emission[t - 1, tokens[j]]\n",
    "\n",
    "        # Context-aware score for stay vs change\n",
    "        stayed = trellis[t - 1, j] + p_stay\n",
    "        changed = trellis[t - 1, j - 1] + p_change\n",
    "\n",
    "        # Update position\n",
    "        t -= 1\n",
    "        if changed > stayed:\n",
    "            j -= 1\n",
    "\n",
    "        # Store the path with frame-wise probability.\n",
    "        prob = (p_change if changed > stayed else p_stay).exp().item()\n",
    "        path.append(Point(j, t, prob))\n",
    "\n",
    "    # Now j == 0, which means, it reached the SoS.\n",
    "    # Fill up the rest for the sake of visualization\n",
    "    while t > 0:\n",
    "        prob = emission[t - 1, blank_id].exp().item()\n",
    "        path.append(Point(j, t - 1, prob))\n",
    "        t -= 1\n",
    "\n",
    "    return path[::-1]\n",
    "\n",
    "# Merge the labels\n",
    "@dataclass\n",
    "class Segment:\n",
    "    label: str\n",
    "    start: int\n",
    "    end: int\n",
    "    score: float\n",
    "\n",
    "    def __repr__(self):\n",
    "        return f\"{self.label} ({self.score:4.2f}): [{self.start:5d}, {self.end:5d})\"\n",
    "\n",
    "    @property\n",
    "    def length(self):\n",
    "        return self.end - self.start\n",
    "\n",
    "\n",
    "def merge_repeats(path, transcript):\n",
    "    i1, i2 = 0, 0\n",
    "    segments = []\n",
    "    while i1 < len(path):\n",
    "        while i2 < len(path) and path[i1].token_index == path[i2].token_index:\n",
    "            i2 += 1\n",
    "        score = sum(path[k].score for k in range(i1, i2)) / (i2 - i1)\n",
    "        segments.append(\n",
    "            Segment(\n",
    "                transcript[path[i1].token_index],\n",
    "                path[i1].time_index,\n",
    "                path[i2 - 1].time_index + 1,\n",
    "                score,\n",
    "            )\n",
    "        )\n",
    "        i1 = i2\n",
    "    return segments\n",
    "\n",
    "# Merge words\n",
    "def merge_words(segments, separator=\"|\"):\n",
    "    words = []\n",
    "    i1, i2 = 0, 0\n",
    "    while i1 < len(segments):\n",
    "        if i2 >= len(segments) or segments[i2].label == separator:\n",
    "            if i1 != i2:\n",
    "                segs = segments[i1:i2]\n",
    "                word = \"\".join([seg.label for seg in segs])\n",
    "                score = sum(seg.score * seg.length for seg in segs) / sum(seg.length for seg in segs)\n",
    "                words.append(Segment(word, segments[i1].start, segments[i2 - 1].end, score))\n",
    "            i1 = i2 + 1\n",
    "            i2 = i1\n",
    "        else:\n",
    "            i2 += 1\n",
    "    return words\n"
   ]
  },
  {
   "cell_type": "markdown",
   "metadata": {},
   "source": [
    "# Model Selection"
   ]
  },
  {
   "cell_type": "code",
   "execution_count": 20,
   "metadata": {},
   "outputs": [],
   "source": [
    "# load model and tokenizer\n",
    "processor = Wav2Vec2Processor.from_pretrained(model_name)\n",
    "model = Wav2Vec2ForCTC.from_pretrained(model_name)"
   ]
  },
  {
   "cell_type": "markdown",
   "metadata": {},
   "source": [
    "# Data"
   ]
  },
  {
   "cell_type": "code",
   "execution_count": 28,
   "metadata": {},
   "outputs": [
    {
     "data": {
      "text/html": [
       "<div>\n",
       "<style scoped>\n",
       "    .dataframe tbody tr th:only-of-type {\n",
       "        vertical-align: middle;\n",
       "    }\n",
       "\n",
       "    .dataframe tbody tr th {\n",
       "        vertical-align: top;\n",
       "    }\n",
       "\n",
       "    .dataframe thead th {\n",
       "        text-align: right;\n",
       "    }\n",
       "</style>\n",
       "<table border=\"1\" class=\"dataframe\">\n",
       "  <thead>\n",
       "    <tr style=\"text-align: right;\">\n",
       "      <th></th>\n",
       "      <th>Unnamed: 0</th>\n",
       "      <th>path</th>\n",
       "      <th>speakerId</th>\n",
       "      <th>transcription</th>\n",
       "      <th>action</th>\n",
       "      <th>object</th>\n",
       "      <th>location</th>\n",
       "    </tr>\n",
       "  </thead>\n",
       "  <tbody>\n",
       "    <tr>\n",
       "      <th>0</th>\n",
       "      <td>0</td>\n",
       "      <td>wavs/speakers/2BqVo8kVB2Skwgyb/0a3129c0-4474-1...</td>\n",
       "      <td>2BqVo8kVB2Skwgyb</td>\n",
       "      <td>Change language</td>\n",
       "      <td>change language</td>\n",
       "      <td>none</td>\n",
       "      <td>none</td>\n",
       "    </tr>\n",
       "    <tr>\n",
       "      <th>1</th>\n",
       "      <td>1</td>\n",
       "      <td>wavs/speakers/2BqVo8kVB2Skwgyb/0ee42a80-4474-1...</td>\n",
       "      <td>2BqVo8kVB2Skwgyb</td>\n",
       "      <td>Resume</td>\n",
       "      <td>activate</td>\n",
       "      <td>music</td>\n",
       "      <td>none</td>\n",
       "    </tr>\n",
       "    <tr>\n",
       "      <th>2</th>\n",
       "      <td>2</td>\n",
       "      <td>wavs/speakers/2BqVo8kVB2Skwgyb/144d5be0-4474-1...</td>\n",
       "      <td>2BqVo8kVB2Skwgyb</td>\n",
       "      <td>Turn the lights on</td>\n",
       "      <td>activate</td>\n",
       "      <td>lights</td>\n",
       "      <td>none</td>\n",
       "    </tr>\n",
       "    <tr>\n",
       "      <th>3</th>\n",
       "      <td>3</td>\n",
       "      <td>wavs/speakers/2BqVo8kVB2Skwgyb/1811b6e0-4474-1...</td>\n",
       "      <td>2BqVo8kVB2Skwgyb</td>\n",
       "      <td>Switch on the lights</td>\n",
       "      <td>activate</td>\n",
       "      <td>lights</td>\n",
       "      <td>none</td>\n",
       "    </tr>\n",
       "    <tr>\n",
       "      <th>4</th>\n",
       "      <td>4</td>\n",
       "      <td>wavs/speakers/2BqVo8kVB2Skwgyb/1d9f3920-4474-1...</td>\n",
       "      <td>2BqVo8kVB2Skwgyb</td>\n",
       "      <td>Switch off the lights</td>\n",
       "      <td>deactivate</td>\n",
       "      <td>lights</td>\n",
       "      <td>none</td>\n",
       "    </tr>\n",
       "    <tr>\n",
       "      <th>5</th>\n",
       "      <td>5</td>\n",
       "      <td>wavs/speakers/2BqVo8kVB2Skwgyb/269fc210-4474-1...</td>\n",
       "      <td>2BqVo8kVB2Skwgyb</td>\n",
       "      <td>Volume up</td>\n",
       "      <td>increase</td>\n",
       "      <td>volume</td>\n",
       "      <td>none</td>\n",
       "    </tr>\n",
       "    <tr>\n",
       "      <th>6</th>\n",
       "      <td>6</td>\n",
       "      <td>wavs/speakers/2BqVo8kVB2Skwgyb/5bbda3f0-4478-1...</td>\n",
       "      <td>2BqVo8kVB2Skwgyb</td>\n",
       "      <td>Turn the volume up</td>\n",
       "      <td>increase</td>\n",
       "      <td>volume</td>\n",
       "      <td>none</td>\n",
       "    </tr>\n",
       "    <tr>\n",
       "      <th>7</th>\n",
       "      <td>7</td>\n",
       "      <td>wavs/speakers/2BqVo8kVB2Skwgyb/6436ad60-4478-1...</td>\n",
       "      <td>2BqVo8kVB2Skwgyb</td>\n",
       "      <td>Turn the volume down</td>\n",
       "      <td>decrease</td>\n",
       "      <td>volume</td>\n",
       "      <td>none</td>\n",
       "    </tr>\n",
       "    <tr>\n",
       "      <th>8</th>\n",
       "      <td>8</td>\n",
       "      <td>wavs/speakers/2BqVo8kVB2Skwgyb/6a1cd6f0-4478-1...</td>\n",
       "      <td>2BqVo8kVB2Skwgyb</td>\n",
       "      <td>Turn up the temperature</td>\n",
       "      <td>increase</td>\n",
       "      <td>heat</td>\n",
       "      <td>none</td>\n",
       "    </tr>\n",
       "    <tr>\n",
       "      <th>9</th>\n",
       "      <td>9</td>\n",
       "      <td>wavs/speakers/2BqVo8kVB2Skwgyb/72160200-4478-1...</td>\n",
       "      <td>2BqVo8kVB2Skwgyb</td>\n",
       "      <td>Turn the heat up</td>\n",
       "      <td>increase</td>\n",
       "      <td>heat</td>\n",
       "      <td>none</td>\n",
       "    </tr>\n",
       "  </tbody>\n",
       "</table>\n",
       "</div>"
      ],
      "text/plain": [
       "   Unnamed: 0                                               path  \\\n",
       "0           0  wavs/speakers/2BqVo8kVB2Skwgyb/0a3129c0-4474-1...   \n",
       "1           1  wavs/speakers/2BqVo8kVB2Skwgyb/0ee42a80-4474-1...   \n",
       "2           2  wavs/speakers/2BqVo8kVB2Skwgyb/144d5be0-4474-1...   \n",
       "3           3  wavs/speakers/2BqVo8kVB2Skwgyb/1811b6e0-4474-1...   \n",
       "4           4  wavs/speakers/2BqVo8kVB2Skwgyb/1d9f3920-4474-1...   \n",
       "5           5  wavs/speakers/2BqVo8kVB2Skwgyb/269fc210-4474-1...   \n",
       "6           6  wavs/speakers/2BqVo8kVB2Skwgyb/5bbda3f0-4478-1...   \n",
       "7           7  wavs/speakers/2BqVo8kVB2Skwgyb/6436ad60-4478-1...   \n",
       "8           8  wavs/speakers/2BqVo8kVB2Skwgyb/6a1cd6f0-4478-1...   \n",
       "9           9  wavs/speakers/2BqVo8kVB2Skwgyb/72160200-4478-1...   \n",
       "\n",
       "          speakerId            transcription           action  object location  \n",
       "0  2BqVo8kVB2Skwgyb          Change language  change language    none     none  \n",
       "1  2BqVo8kVB2Skwgyb                   Resume         activate   music     none  \n",
       "2  2BqVo8kVB2Skwgyb       Turn the lights on         activate  lights     none  \n",
       "3  2BqVo8kVB2Skwgyb     Switch on the lights         activate  lights     none  \n",
       "4  2BqVo8kVB2Skwgyb    Switch off the lights       deactivate  lights     none  \n",
       "5  2BqVo8kVB2Skwgyb                Volume up         increase  volume     none  \n",
       "6  2BqVo8kVB2Skwgyb       Turn the volume up         increase  volume     none  \n",
       "7  2BqVo8kVB2Skwgyb     Turn the volume down         decrease  volume     none  \n",
       "8  2BqVo8kVB2Skwgyb  Turn up the temperature         increase    heat     none  \n",
       "9  2BqVo8kVB2Skwgyb         Turn the heat up         increase    heat     none  "
      ]
     },
     "execution_count": 28,
     "metadata": {},
     "output_type": "execute_result"
    }
   ],
   "source": [
    "train_df = pd.read_csv(os.path.join(dataset_path_base+'/data','train_data.csv'))\n",
    "train_df.head(10)"
   ]
  },
  {
   "cell_type": "code",
   "execution_count": 22,
   "metadata": {},
   "outputs": [],
   "source": [
    "def hook(module, input, output):\n",
    "    global layer_output\n",
    "    layer_output = output"
   ]
  },
  {
   "cell_type": "code",
   "execution_count": 23,
   "metadata": {},
   "outputs": [],
   "source": [
    "import torchaudio\n",
    "bundle = torchaudio.pipelines.WAV2VEC2_ASR_BASE_960H\n",
    "labels = bundle.get_labels()"
   ]
  },
  {
   "cell_type": "code",
   "execution_count": 24,
   "metadata": {},
   "outputs": [],
   "source": [
    "layer = model.wav2vec2.encoder.layers[11].final_layer_norm\n",
    "hook_handle = layer.register_forward_hook(hook)"
   ]
  },
  {
   "cell_type": "code",
   "execution_count": 32,
   "metadata": {},
   "outputs": [],
   "source": [
    "\n",
    "def wordify(idx):\n",
    "    filePath = os.path.join(dataset_path_base,train_df.loc[idx,'path'])\n",
    "    audio,rate = librosa.load(filePath, sr=16000)\n",
    "    transcript = train_df.loc[idx,'transcription']\n",
    "    # tokenize\n",
    "    input_values = processor(audio, sampling_rate=rate, return_tensors=\"pt\", padding=\"longest\").input_values  # Batch size 1\n",
    "\n",
    "    # retrieve logits\n",
    "    with torch.no_grad():\n",
    "        _= model(input_values)\n",
    "\n",
    "    out = layer_output[0]\n",
    "    # take argmax and decode    \n",
    "    chars_to_ignore_regex = '[\\,\\?\\.\\-\\;\\:\\’]'\n",
    "    transcript = re.sub(chars_to_ignore_regex, '', transcript)\n",
    "    transcript = re.sub(\"\\s\", \"|\",transcript).upper()\n",
    "\n",
    "    \n",
    "    dictionary = {c: i for i, c in enumerate(labels)}\n",
    "    tokens = [dictionary[c] for c in transcript]\n",
    "    trellis = get_trellis(out, tokens)\n",
    "    transition_path = backtrack(trellis, out, tokens)\n",
    "    segments = merge_repeats(transition_path, transcript)\n",
    "    word_segments = merge_words(segments)\n",
    "    word_embeds = []\n",
    "    for word in word_segments:\n",
    "        word_embeds.append(torch.mean(F.normalize(out[word.start:word.end]),0,True))\n",
    "\n",
    "    return word_embeds, transcript"
   ]
  },
  {
   "cell_type": "code",
   "execution_count": 33,
   "metadata": {},
   "outputs": [],
   "source": [
    "tokenized_op1, transcript_1 = wordify(3)\n",
    "tokenized_op2, transcript_2 = wordify(4)"
   ]
  },
  {
   "cell_type": "code",
   "execution_count": 35,
   "metadata": {},
   "outputs": [
    {
     "name": "stdout",
     "output_type": "stream",
     "text": [
      "SWITCH\tON\tTHE\tLIGHTS\n",
      "0.9673\t0.6662\t0.9267\t0.9521\t\n",
      "SWITCH\tOFF\tTHE\tLIGHTS\n"
     ]
    }
   ],
   "source": [
    "import torch.nn as nn\n",
    "cos = nn.CosineSimilarity(dim=1, eps=1e-6)\n",
    "\n",
    "print('\\t'.join(transcript_1.split('|')))\n",
    "for i in range(4):\n",
    "    output = cos(tokenized_op1[i], tokenized_op2[i])\n",
    "    print(f'{output.item():0.4f}', end='\\t')\n",
    "print()\n",
    "print('\\t'.join(transcript_2.split('|')))"
   ]
  },
  {
   "cell_type": "code",
   "execution_count": 36,
   "metadata": {},
   "outputs": [],
   "source": [
    "tokenized_op1, transcript_1 = wordify(8)\n",
    "tokenized_op2, transcript_2 = wordify(9)"
   ]
  },
  {
   "cell_type": "code",
   "execution_count": 37,
   "metadata": {},
   "outputs": [
    {
     "name": "stdout",
     "output_type": "stream",
     "text": [
      "TURN\tUP\tTHE\tTEMPERATURE\n",
      "0.7121\t0.6039\t0.7888\t0.5248\t\n",
      "TURN\tTHE\tHEAT\tUP\n"
     ]
    }
   ],
   "source": [
    "import torch.nn as nn\n",
    "cos = nn.CosineSimilarity(dim=1, eps=1e-6)\n",
    "\n",
    "print('\\t'.join(transcript_1.split('|')))\n",
    "for i in range(4):\n",
    "    output = cos(tokenized_op1[i], tokenized_op2[i])\n",
    "    print(f'{output.item():0.4f}', end='\\t')\n",
    "print()\n",
    "print('\\t'.join(transcript_2.split('|')))"
   ]
  },
  {
   "cell_type": "code",
   "execution_count": 38,
   "metadata": {},
   "outputs": [],
   "source": [
    "tokenized_op1, transcript_1 = wordify(6)\n",
    "tokenized_op2, transcript_2 = wordify(7)"
   ]
  },
  {
   "cell_type": "code",
   "execution_count": 39,
   "metadata": {},
   "outputs": [
    {
     "name": "stdout",
     "output_type": "stream",
     "text": [
      "TURN\tTHE\tVOLUME\tUP\n",
      "0.7726\t0.9083\t0.9074\t0.8004\t\n",
      "TURN\tTHE\tVOLUME\tDOWN\n"
     ]
    }
   ],
   "source": [
    "import torch.nn as nn\n",
    "cos = nn.CosineSimilarity(dim=1, eps=1e-6)\n",
    "\n",
    "print('\\t'.join(transcript_1.split('|')))\n",
    "for i in range(4):\n",
    "    output = cos(tokenized_op1[i], tokenized_op2[i])\n",
    "    print(f'{output.item():0.4f}', end='\\t')\n",
    "print()\n",
    "print('\\t'.join(transcript_2.split('|')))"
   ]
  },
  {
   "cell_type": "code",
   "execution_count": null,
   "metadata": {},
   "outputs": [],
   "source": []
  }
 ],
 "metadata": {
  "kernelspec": {
   "display_name": "asr-ner",
   "language": "python",
   "name": "python3"
  },
  "language_info": {
   "codemirror_mode": {
    "name": "ipython",
    "version": 3
   },
   "file_extension": ".py",
   "mimetype": "text/x-python",
   "name": "python",
   "nbconvert_exporter": "python",
   "pygments_lexer": "ipython3",
   "version": "3.11.3"
  },
  "orig_nbformat": 4
 },
 "nbformat": 4,
 "nbformat_minor": 2
}
